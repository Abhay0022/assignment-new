{
 "cells": [
  {
   "cell_type": "code",
   "execution_count": null,
   "id": "1d89ae03-5835-4c08-923b-50296bbebf57",
   "metadata": {},
   "outputs": [],
   "source": [
    "QUESTION NO 1 : Who developed python programming language \n",
    "Answer: python is a general purpose,dynamically typed,high level language,developed by \"Guido Van Rossum\" in the year 1991 at CWI in Netherlnd "
   ]
  }
 ],
 "metadata": {
  "kernelspec": {
   "display_name": "Python 3 (ipykernel)",
   "language": "python",
   "name": "python3"
  },
  "language_info": {
   "codemirror_mode": {
    "name": "ipython",
    "version": 3
   },
   "file_extension": ".py",
   "mimetype": "text/x-python",
   "name": "python",
   "nbconvert_exporter": "python",
   "pygments_lexer": "ipython3",
   "version": "3.10.8"
  }
 },
 "nbformat": 4,
 "nbformat_minor": 5
}
