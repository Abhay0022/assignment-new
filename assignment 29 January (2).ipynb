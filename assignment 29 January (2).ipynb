{
 "cells": [
  {
   "cell_type": "code",
   "execution_count": null,
   "id": "e91192c7-bc05-457c-9949-f81a080b57c1",
   "metadata": {},
   "outputs": [],
   "source": [
    "QUESTION NO 1 : Who developed python programming language ?\n",
    "Answer: python is a general purpose,dynamically typed,high level language,developed by \"Guido Van Rossum\" in the year 1991 at CWI in Netherlnd "
   ]
  },
  {
   "cell_type": "code",
   "execution_count": null,
   "id": "4505c9e3-d11c-4c92-bad1-052d09e44e9b",
   "metadata": {},
   "outputs": [],
   "source": [
    "QUESTION NO 2: Which type of programming does python support ?\n",
    "Answer : Python is  multi -paradigm programming languge.Object oriented programming and structured programming are full supported.Many of their feaures supported functional programing ."
   ]
  },
  {
   "cell_type": "code",
   "execution_count": null,
   "id": "377fae2f-3ca1-4cce-af8e-c02d58959569",
   "metadata": {},
   "outputs": [],
   "source": [
    "QUESTION NO 3: Is python case sensitive when dealing with identifiers ?\n",
    "Answer : Yes python case sensitive when dealing with identifiers.this means that the name \"name\",\"Nam\" and \"NAME\" are treated as three different identifiers by the python interpreter,it is important to be cansistent and follow a naming convention when defining you indentifiers to make your code organized ,readable and maintainable "
   ]
  },
  {
   "cell_type": "code",
   "execution_count": null,
   "id": "3ff42e14-ad53-4d21-9fa5-1ae3b8838f7a",
   "metadata": {},
   "outputs": [],
   "source": [
    "QUESTION NO 4: What is the correct extension of the python file ?\n",
    "Answer : '.py' is correct extension of the python file,To save the programs we need to save file with file extension \".py\" ."
   ]
  },
  {
   "cell_type": "code",
   "execution_count": null,
   "id": "91d5bc4b-b5dc-423b-a4e2-e7e2a9dda5ad",
   "metadata": {},
   "outputs": [],
   "source": [
    "QUESTION NO 5: Is python code compiled or interpreted ?\n",
    "Answer: Python is an interpreted language .The python language program runs directly from the source code ."
   ]
  },
  {
   "cell_type": "code",
   "execution_count": null,
   "id": "a86a1e90-b4b0-41f3-bbf1-f86b0673db65",
   "metadata": {},
   "outputs": [],
   "source": [
    "QUESTION NO 6 : Name a few blocks of code used to define in python language ?\n",
    "Answer : Indentation is used to define a block of code in python .The following are blocks , a module , a function body ,and a class definaton ,Each command type interactively is a block . "
   ]
  },
  {
   "cell_type": "code",
   "execution_count": null,
   "id": "5e33e434-4f46-48db-b57a-4a519e1dc87a",
   "metadata": {},
   "outputs": [],
   "source": [
    "QUESTION NO 7: State a character used to give single-line comments in python ?\n",
    "Answer : We can use the '#'character to write the comment in python . All the characters written after '#'are considered comments."
   ]
  },
  {
   "cell_type": "code",
   "execution_count": null,
   "id": "aa6df14a-6eba-4cc3-81f4-2293aa8d75da",
   "metadata": {},
   "outputs": [],
   "source": [
    "QUESTION NO : Mention functions which can help us to find the version of python that we are currently working on ?\n",
    "Answer : The function 'sys.version ' can help us to find the version of python that we are currently working on .            "
   ]
  },
  {
   "cell_type": "code",
   "execution_count": null,
   "id": "f2aab76a-7ab5-42e7-89e2-0e4aeee8df9c",
   "metadata": {},
   "outputs": [],
   "source": [
    "QUESTION NO 9  : Python supports the creatain of anonymous functions at runtime , using a construct called _ _ _ _ _ _ _ _\n",
    "Answer : Lambda ."
   ]
  },
  {
   "cell_type": "code",
   "execution_count": null,
   "id": "10b32266-f42c-4229-a31e-310ba4609893",
   "metadata": {},
   "outputs": [],
   "source": [
    "QUESTION  NO 10 : Whats does pip stand for python ?\n",
    "Answer : Developed in 2008 ,pip (an acronym of \"pip install Packges \") is today the standard tool for installing python  packages and thier dependencies in a secure manner."
   ]
  },
  {
   "cell_type": "code",
   "execution_count": null,
   "id": "21f70c29-a16b-4a53-a257-ea85529e5216",
   "metadata": {},
   "outputs": [],
   "source": [
    "QUESTION NO 11 : Mention a few built- in function in python ?\n",
    "Answer :Python has a set of built-in functions.\n",
    "   FUNCTION         \tDESCRIPTION \n",
    "1. type()              \tReturns the type of an object\n",
    "2. bool()               Returns the boolean value of the specified object\n",
    "3. float()              Returns a floating point number\n",
    "4. len()                Returns the length of an object\n",
    "5. str()                Returns a string object \n",
    "6. int()                Returns an integer number"
   ]
  },
  {
   "cell_type": "code",
   "execution_count": null,
   "id": "fcb0f2ec-999e-43ce-8ef4-12fd9e428128",
   "metadata": {},
   "outputs": [],
   "source": [
    "QUESTION NO 12: What is the maximum possible length of an indentifier python ?\n",
    "Answer : An identifier can have  maximum length of 79 characters in python ."
   ]
  },
  {
   "cell_type": "code",
   "execution_count": null,
   "id": "463d56ef-ffeb-4284-8830-e5ddcf5a7359",
   "metadata": {},
   "outputs": [],
   "source": [
    "QUESTION NO 13:Whats are the benefits of using python ?\n",
    "Answer : Python is simple to understand and use. It's a highly developed programming language with an English-like syntax. The language is simple to adapt as a result of these factors. Because of its simplicity, Python's fundamentals can be implemented faster than those in other programming languages.\n",
    "Python is distributed under an open-source license approved by the Open-Source Initiative (OSI)\n",
    "it is an interpreted language.\n",
    "Python includes a huge number of libraries that the user can use.\n",
    "web design and development using Python is very efficient.\n"
   ]
  },
  {
   "cell_type": "code",
   "execution_count": null,
   "id": "678dd658-c3f1-4415-b50f-c50ecde531db",
   "metadata": {},
   "outputs": [],
   "source": [
    "QUESTION NO 14: How is memory managed in python ?\n",
    "Answer :As we know,\n",
    "Python uses the dynamic memory allocation which is managed by the Heap data structure.\n",
    "Memory Heap holds the objects and other data structures that will be used in the program.\n",
    "Python memory manager manages the allocation or de-allocation of the heap memory space through the API functions."
   ]
  },
  {
   "cell_type": "code",
   "execution_count": null,
   "id": "765760b9-f12c-431e-a491-7ba91e9c4619",
   "metadata": {},
   "outputs": [],
   "source": [
    "QUESION NO 15:How to install python on windows and set path variables ?\n",
    "Answer :Install python from this link https://www.python.org/downloads/\n",
    "After this, install it on your PC. Look for the location where PYTHON has been installed on your PC using tge following command on your command prompt: cmd python.\n",
    "Then go to advanced system settings and add new variable and name it as PYTHON_NAME and paste the copied path.\n",
    "Then look for the path variable, select it's value and select edit\n",
    "Add a semicolon towards the end of the value if it's not present and then type %PYTHON_HOME%"
   ]
  },
  {
   "cell_type": "code",
   "execution_count": null,
   "id": "f86dd2c5-07ac-40fd-aaf7-cd9e4ccffd9e",
   "metadata": {},
   "outputs": [],
   "source": [
    "QUESTION NO 16 : Is Indentaion required in python ?\n",
    "Answer :Indentation is important to Python because it's how you determine scope. \n",
    "Scope is how Python knows what code belongs to what part of the program."
   ]
  }
 ],
 "metadata": {
  "kernelspec": {
   "display_name": "Python 3 (ipykernel)",
   "language": "python",
   "name": "python3"
  },
  "language_info": {
   "codemirror_mode": {
    "name": "ipython",
    "version": 3
   },
   "file_extension": ".py",
   "mimetype": "text/x-python",
   "name": "python",
   "nbconvert_exporter": "python",
   "pygments_lexer": "ipython3",
   "version": "3.10.8"
  }
 },
 "nbformat": 4,
 "nbformat_minor": 5
}
